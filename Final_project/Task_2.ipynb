{
 "cells": [
  {
   "cell_type": "code",
   "execution_count": 1,
   "metadata": {},
   "outputs": [],
   "source": [
    "import pandahouse as ph"
   ]
  },
  {
   "cell_type": "markdown",
   "metadata": {},
   "source": [
    "# Задание 2.1"
   ]
  },
  {
   "cell_type": "code",
   "execution_count": 2,
   "metadata": {},
   "outputs": [],
   "source": [
    "connection_default = {'host': 'http://clickhouse.beslan.pro:8080',\n",
    "                      'database':'default',\n",
    "                      'user':'student', \n",
    "                      'password':'dpo_python_2020'\n",
    "                     }"
   ]
  },
  {
   "cell_type": "code",
   "execution_count": 3,
   "metadata": {},
   "outputs": [],
   "source": [
    "query_2_1 = '''\n",
    "WITH t1 AS (SELECT st_id, DATE_TRUNC('month', timest) as date, COUNT(*) count_pea\n",
    "FROM default.peas\n",
    "where correct = 1\n",
    "GROUP BY st_id, date\n",
    "HAVING COUNT(*) >= 20)\n",
    "SELECT count(*) AS Number_of_diligent_students\n",
    "FROM t1\n",
    "    '''"
   ]
  },
  {
   "cell_type": "code",
   "execution_count": 4,
   "metadata": {},
   "outputs": [
    {
     "data": {
      "text/html": [
       "<div>\n",
       "<style scoped>\n",
       "    .dataframe tbody tr th:only-of-type {\n",
       "        vertical-align: middle;\n",
       "    }\n",
       "\n",
       "    .dataframe tbody tr th {\n",
       "        vertical-align: top;\n",
       "    }\n",
       "\n",
       "    .dataframe thead th {\n",
       "        text-align: right;\n",
       "    }\n",
       "</style>\n",
       "<table border=\"1\" class=\"dataframe\">\n",
       "  <thead>\n",
       "    <tr style=\"text-align: right;\">\n",
       "      <th></th>\n",
       "      <th>Number_of_diligent_students</th>\n",
       "    </tr>\n",
       "  </thead>\n",
       "  <tbody>\n",
       "    <tr>\n",
       "      <th>0</th>\n",
       "      <td>136</td>\n",
       "    </tr>\n",
       "  </tbody>\n",
       "</table>\n",
       "</div>"
      ],
      "text/plain": [
       "   Number_of_diligent_students\n",
       "0                          136"
      ]
     },
     "execution_count": 4,
     "metadata": {},
     "output_type": "execute_result"
    }
   ],
   "source": [
    "Number_of_diligent_students = ph.read_clickhouse(query=query_2_1, connection=connection_default)\n",
    "Number_of_diligent_students"
   ]
  },
  {
   "cell_type": "markdown",
   "metadata": {},
   "source": [
    "# Задание 2.2"
   ]
  },
  {
   "cell_type": "code",
   "execution_count": 5,
   "metadata": {},
   "outputs": [],
   "source": [
    "query_2_2 = '''\n",
    "\n",
    "WITH activ_studs AS (SELECT DISTINCT st_id\n",
    "                     FROM default.peas\n",
    "                     WHERE correct = 1\n",
    "                     GROUP BY st_id\n",
    "                     HAVING COUNT(*) > 10),\n",
    "count_activ_by_grp as (SELECT count(st_id) as count_st_id, test_grp \n",
    "                        FROM\n",
    "                        (SELECT DISTINCT st_id\n",
    "                        FROM default.peas\n",
    "                        WHERE correct = 1\n",
    "                        GROUP BY st_id\n",
    "                        HAVING COUNT(*) > 10) as t1 \n",
    "                        LEFT JOIN\n",
    "                        default.studs ON t1.st_id = default.studs.st_id\n",
    "                        group by test_grp),\n",
    "activ_studs_math AS (SELECT DISTINCT st_id\n",
    "                     FROM default.peas\n",
    "                     WHERE correct = 1 and subject = 'Math'\n",
    "                     GROUP BY st_id\n",
    "                     HAVING COUNT(*) >= 2),\n",
    "\n",
    "ARPU AS (SELECT test_grp,\n",
    "                         SUM(money) / COUNT(DISTINCT st_id) AS ARPU\n",
    "        FROM default.studs LEFT JOIN default.final_project_check ON default.final_project_check.st_id = default.studs.st_id\n",
    "                          GROUP BY test_grp),\n",
    "ARPAU AS (SELECT t1.test_grp, t1.sum_money / count_activ_by_grp.count_st_id as ARPAU\n",
    "            FROM (SELECT test_grp, SUM(money) as sum_money\n",
    "            FROM default.studs INNER JOIN default.final_project_check \n",
    "                   ON default.final_project_check.st_id = default.studs.st_id\n",
    "            where st_id IN (select st_id FROM activ_studs)\n",
    "            GROUP BY test_grp) as t1\n",
    "            JOIN count_activ_by_grp USING(test_grp)),\n",
    "CR AS (SELECT test_grp,countIf(DISTINCT final_project_check.st_id, final_project_check.st_id != '') / \n",
    "        COUNT(DISTINCT st_id) AS CR\n",
    "FROM default.studs LEFT JOIN default.final_project_check \n",
    "                   ON default.final_project_check.st_id = default.studs.st_id\n",
    "GROUP BY test_grp),\n",
    "CR_FOR_ACTIV AS (SELECT test_grp, \n",
    "                        countIf(DISTINCT final_project_check.st_id, final_project_check.st_id != '') / COUNT(DISTINCT default.studs.st_id) as CR_FOR_ACTIV\n",
    "                 FROM default.studs LEFT JOIN default.final_project_check ON default.studs.st_id = default.final_project_check.st_id\n",
    "                 WHERE default.studs.st_id IN (SELECT st_id FROM activ_studs)\n",
    "                 GROUP BY test_grp),\n",
    "CR_FOR_ACTIV_MAT AS (SELECT test_grp, \n",
    "                            countIf(DISTINCT final_project_check.st_id, final_project_check.st_id != '' and subject = 'Math')/COUNT(DISTINCT default.studs.st_id) as CR_FOR_ACTIV_MAT\n",
    "                     FROM default.studs LEFT JOIN default.final_project_check ON default.studs.st_id = default.final_project_check.st_id\n",
    "                     WHERE default.studs.st_id IN (SELECT st_id FROM activ_studs_math)\n",
    "                     GROUP BY test_grp)\n",
    "\n",
    "SELECT ARPU.test_grp as test_grp,\n",
    "       ARPU.ARPU as ARPU,\n",
    "       ARPAU.ARPAU as ARPAU,\n",
    "       CR.CR * 100 AS CR,\n",
    "       CR_FOR_ACTIV.CR_FOR_ACTIV * 100 as CR_FOR_ACTIV,\n",
    "       CR_FOR_ACTIV_MAT.CR_FOR_ACTIV_MAT * 100 AS CR_FOR_ACTIV_MAT\n",
    "FROM CR JOIN CR_FOR_ACTIV  USING(test_grp)\n",
    "                    JOIN CR_FOR_ACTIV_MAT ON CR.test_grp = CR_FOR_ACTIV_MAT.test_grp\n",
    "                    JOIN ARPU ON CR_FOR_ACTIV_MAT.test_grp = ARPU.test_grp\n",
    "                    JOIN ARPAU ON CR_FOR_ACTIV_MAT.test_grp = ARPAU.test_grp'''"
   ]
  },
  {
   "cell_type": "code",
   "execution_count": 6,
   "metadata": {},
   "outputs": [
    {
     "data": {
      "text/html": [
       "<div>\n",
       "<style scoped>\n",
       "    .dataframe tbody tr th:only-of-type {\n",
       "        vertical-align: middle;\n",
       "    }\n",
       "\n",
       "    .dataframe tbody tr th {\n",
       "        vertical-align: top;\n",
       "    }\n",
       "\n",
       "    .dataframe thead th {\n",
       "        text-align: right;\n",
       "    }\n",
       "</style>\n",
       "<table border=\"1\" class=\"dataframe\">\n",
       "  <thead>\n",
       "    <tr style=\"text-align: right;\">\n",
       "      <th></th>\n",
       "      <th>test_grp</th>\n",
       "      <th>ARPU</th>\n",
       "      <th>ARPAU</th>\n",
       "      <th>CR</th>\n",
       "      <th>CR_FOR_ACTIV</th>\n",
       "      <th>CR_FOR_ACTIV_MAT</th>\n",
       "    </tr>\n",
       "  </thead>\n",
       "  <tbody>\n",
       "    <tr>\n",
       "      <th>0</th>\n",
       "      <td>control</td>\n",
       "      <td>4540.983607</td>\n",
       "      <td>10393.700787</td>\n",
       "      <td>4.918033</td>\n",
       "      <td>11.023622</td>\n",
       "      <td>6.122449</td>\n",
       "    </tr>\n",
       "    <tr>\n",
       "      <th>1</th>\n",
       "      <td>pilot</td>\n",
       "      <td>11508.474576</td>\n",
       "      <td>29739.583333</td>\n",
       "      <td>10.847458</td>\n",
       "      <td>26.041667</td>\n",
       "      <td>9.523810</td>\n",
       "    </tr>\n",
       "  </tbody>\n",
       "</table>\n",
       "</div>"
      ],
      "text/plain": [
       "  test_grp          ARPU         ARPAU         CR  CR_FOR_ACTIV  \\\n",
       "0  control   4540.983607  10393.700787   4.918033     11.023622   \n",
       "1    pilot  11508.474576  29739.583333  10.847458     26.041667   \n",
       "\n",
       "   CR_FOR_ACTIV_MAT  \n",
       "0          6.122449  \n",
       "1          9.523810  "
      ]
     },
     "execution_count": 6,
     "metadata": {},
     "output_type": "execute_result"
    }
   ],
   "source": [
    "Metrics = ph.read_clickhouse(query=query_2_2, connection=connection_default)\n",
    "Metrics"
   ]
  }
 ],
 "metadata": {
  "kernelspec": {
   "display_name": "Python 3",
   "language": "python",
   "name": "python3"
  },
  "language_info": {
   "codemirror_mode": {
    "name": "ipython",
    "version": 3
   },
   "file_extension": ".py",
   "mimetype": "text/x-python",
   "name": "python",
   "nbconvert_exporter": "python",
   "pygments_lexer": "ipython3",
   "version": "3.7.3"
  }
 },
 "nbformat": 4,
 "nbformat_minor": 4
}
